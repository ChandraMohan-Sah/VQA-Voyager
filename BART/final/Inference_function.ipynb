{
  "nbformat": 4,
  "nbformat_minor": 0,
  "metadata": {
    "colab": {
      "provenance": []
    },
    "kernelspec": {
      "name": "python3",
      "display_name": "Python 3"
    },
    "language_info": {
      "name": "python"
    }
  },
  "cells": [
    {
      "cell_type": "code",
      "execution_count": 8,
      "metadata": {
        "colab": {
          "base_uri": "https://localhost:8080/"
        },
        "id": "rDInISyS0vIc",
        "outputId": "a56d4f35-afd2-4c86-a918-bdf1a9f12cd5"
      },
      "outputs": [
        {
          "output_type": "stream",
          "name": "stderr",
          "text": [
            "<ipython-input-8-8a10cd85ee23>:10: FutureWarning: You are using `torch.load` with `weights_only=False` (the current default value), which uses the default pickle module implicitly. It is possible to construct malicious pickle data which will execute arbitrary code during unpickling (See https://github.com/pytorch/pytorch/blob/main/SECURITY.md#untrusted-models for more details). In a future release, the default value for `weights_only` will be flipped to `True`. This limits the functions that could be executed during unpickling. Arbitrary objects will no longer be allowed to be loaded via this mode unless they are explicitly allowlisted by the user via `torch.serialization.add_safe_globals`. We recommend you start setting `weights_only=True` for any use case where you don't have full control of the loaded file. Please open an issue on GitHub for any issues related to this experimental feature.\n",
            "  model.load_state_dict(torch.load(model_path, map_location=torch.device('cpu')))\n"
          ]
        },
        {
          "output_type": "stream",
          "name": "stdout",
          "text": [
            "Answer: i'm sorry, i couldn't understand that. could you rephrase your question?\n"
          ]
        }
      ],
      "source": [
        "import torch\n",
        "from transformers import BartTokenizer, BartForConditionalGeneration\n",
        "\n",
        "def load_model_and_answer_question(model_path, object_text, question):\n",
        "    # Load the tokenizer and the BART model (architecture)\n",
        "    tokenizer = BartTokenizer.from_pretrained('facebook/bart-base')  # or your custom path\n",
        "    model = BartForConditionalGeneration.from_pretrained('facebook/bart-base')  # Load the model architecture\n",
        "\n",
        "    # Manually load the saved weights from the .pth file and map them to the CPU\n",
        "    model.load_state_dict(torch.load(model_path, map_location=torch.device('cpu')))\n",
        "\n",
        "    # Ensure the model is in evaluation mode\n",
        "    model.eval()\n",
        "\n",
        "    # Concatenate the object and question into one input string\n",
        "    input_text = f\"Object: {object_text} Question: {question}\"\n",
        "\n",
        "    # Tokenize the input string\n",
        "    inputs = tokenizer(input_text, return_tensors=\"pt\", padding=True, truncation=True, max_length=512)\n",
        "\n",
        "    # Generate the answer (with the model in eval mode)\n",
        "    with torch.no_grad():  # Disables gradient calculation for efficiency\n",
        "        outputs = model.generate(inputs['input_ids'], max_length=150, num_beams=5, early_stopping=True)\n",
        "\n",
        "    # Decode the generated answer\n",
        "    answer = tokenizer.decode(outputs[0], skip_special_tokens=True)\n",
        "\n",
        "    return answer\n",
        "\n",
        "# Example usage:\n",
        "model_path = '/content/drive/MyDrive/VQA-Final/part B/Trained models/latest models/model_13.pth'  # Path to your .pth model file\n",
        "object_text = \"Yali\"  # Example object\n",
        "question =  \"uhqefhwj\"\n",
        "answer = load_model_and_answer_question(model_path, object_text, question)\n",
        "print(\"Answer:\", answer)"
      ]
    },
    {
      "cell_type": "code",
      "source": [],
      "metadata": {
        "id": "mRrI8ElW13mK"
      },
      "execution_count": null,
      "outputs": []
    }
  ]
}